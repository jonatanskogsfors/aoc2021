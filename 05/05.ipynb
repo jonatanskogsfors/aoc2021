{
 "cells": [
  {
   "cell_type": "code",
   "execution_count": null,
   "id": "ec7a3e45-d758-4963-b386-dcacb2a2a0c8",
   "metadata": {},
   "outputs": [],
   "source": [
    "import re\n",
    "from pathlib import Path"
   ]
  },
  {
   "cell_type": "code",
   "execution_count": null,
   "id": "46568d63-70f6-43bc-9840-20b0f23d1b58",
   "metadata": {},
   "outputs": [],
   "source": [
    "test_input_1 = \"\"\"0,9 -> 5,9\n",
    "8,0 -> 0,8\n",
    "9,4 -> 3,4\n",
    "2,2 -> 2,1\n",
    "7,0 -> 7,4\n",
    "6,4 -> 2,0\n",
    "0,9 -> 2,9\n",
    "3,4 -> 1,4\n",
    "0,0 -> 8,8\n",
    "5,5 -> 8,2\n",
    "\"\"\"\n",
    "\n",
    "input_1 = Path(\"input_1.txt\").read_text()"
   ]
  },
  {
   "cell_type": "code",
   "execution_count": null,
   "id": "fe57f912-82f3-4bb3-bb1b-811182f586eb",
   "metadata": {},
   "outputs": [],
   "source": [
    "def parse_input(input_string):\n",
    "    vent_pattern = re.compile(\"(\\d+),(\\d+) -> (\\d+),(\\d+)\")\n",
    "    matches = vent_pattern.findall(input_string)\n",
    "    return [((int(m[0]), int(m[1])), (int(m[2]), int(m[3]))) for m in matches]\n",
    "\n",
    "def find_overlaps(vent_list, diagonals=True, verbose=False):\n",
    "    size = max([n for vent in vent_list for point in vent for n in point]) + 1\n",
    "    diagram = [0] * size * size\n",
    "\n",
    "    for start_coordinate, end_coordinate in vent_list:\n",
    "        start_x  = start_coordinate[0]\n",
    "        start_y  = start_coordinate[1]\n",
    "        end_x  = end_coordinate[0]\n",
    "        end_y  = end_coordinate[1]\n",
    "        \n",
    "        if start_x > end_x:\n",
    "            x_stride = -1\n",
    "        else:\n",
    "            x_stride = start_x < end_x\n",
    "        \n",
    "        if start_y > end_y:\n",
    "            y_stride = -1\n",
    "        else:\n",
    "            y_stride = start_y < end_y\n",
    "        \n",
    "        if not diagonals and 0 not in (x_stride, y_stride):\n",
    "            continue\n",
    "        \n",
    "        current_x = start_x\n",
    "        current_y = start_y\n",
    "\n",
    "        while current_x != end_x + x_stride or current_y != end_y + y_stride:\n",
    "            index = current_x + size * current_y\n",
    "            diagram[index] += 1\n",
    "            current_x += x_stride\n",
    "            current_y += y_stride\n",
    "\n",
    "    if verbose:\n",
    "        for n in range(size):\n",
    "            print(\" \".join(map(str, diagram[n*size:n*size+size])))\n",
    "    return len([v for v in diagram if v > 1])"
   ]
  },
  {
   "cell_type": "code",
   "execution_count": null,
   "id": "2c043340-ba92-4e3b-a940-f983d484fe8f",
   "metadata": {},
   "outputs": [],
   "source": [
    "# Part 1 - Test\n",
    "vent_list = parse_input(test_input_1)\n",
    "assert find_overlaps(vent_list, diagonals=False, verbose=True) == 5"
   ]
  },
  {
   "cell_type": "code",
   "execution_count": null,
   "id": "4039f5e2-31c9-480a-8435-324af9825945",
   "metadata": {},
   "outputs": [],
   "source": [
    "# Part 1\n",
    "vent_list = parse_input(input_1)\n",
    "find_overlaps(vent_list, diagonals=False)"
   ]
  },
  {
   "cell_type": "code",
   "execution_count": null,
   "id": "93348ff3-4551-4ed1-8abb-33340177acdc",
   "metadata": {},
   "outputs": [],
   "source": [
    "# Part 2 - Test\n",
    "vent_list = parse_input(test_input_1)\n",
    "assert find_overlaps2(vent_list, verbose=True) == 12"
   ]
  },
  {
   "cell_type": "code",
   "execution_count": null,
   "id": "64d2fc58-19cc-49dc-a02f-ecd697a59558",
   "metadata": {},
   "outputs": [],
   "source": [
    "# Part 2\n",
    "vent_list = parse_input(input_1)\n",
    "find_overlaps(vent_list)"
   ]
  }
 ],
 "metadata": {
  "kernelspec": {
   "display_name": "Python 3 (ipykernel)",
   "language": "python",
   "name": "python3"
  },
  "language_info": {
   "codemirror_mode": {
    "name": "ipython",
    "version": 3
   },
   "file_extension": ".py",
   "mimetype": "text/x-python",
   "name": "python",
   "nbconvert_exporter": "python",
   "pygments_lexer": "ipython3",
   "version": "3.10.0"
  }
 },
 "nbformat": 4,
 "nbformat_minor": 5
}
