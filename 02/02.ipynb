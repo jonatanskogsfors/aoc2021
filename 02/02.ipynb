{
 "cells": [
  {
   "cell_type": "code",
   "execution_count": null,
   "id": "2107f494-f129-4611-b5fc-fe1cda54c2fc",
   "metadata": {},
   "outputs": [],
   "source": [
    "from pathlib import Path\n",
    "from math import prod"
   ]
  },
  {
   "cell_type": "code",
   "execution_count": null,
   "id": "103dafc4-3258-4954-bcb4-32087a8df996",
   "metadata": {},
   "outputs": [],
   "source": [
    "test_input_1 = \"\"\"forward 5\n",
    "down 5\n",
    "forward 8\n",
    "up 3\n",
    "down 8\n",
    "forward 2\"\"\"\n",
    "\n",
    "input_1 = Path(\"input_1.txt\").read_text()"
   ]
  },
  {
   "cell_type": "code",
   "execution_count": null,
   "id": "8f440946-1bb7-4a4d-8479-1a95966e8e6b",
   "metadata": {},
   "outputs": [],
   "source": [
    "def parse_input(input_string):\n",
    "    instructions = []\n",
    "    for row in input_string.split(\"\\n\"):\n",
    "        if row:\n",
    "            direction, amount = row.split()\n",
    "            instructions.append((direction, int(amount)))\n",
    "    return instructions\n",
    "\n",
    "def run_instructions(instructions, position):\n",
    "    new_position = position[:]\n",
    "    for direction, distance in instructions:\n",
    "        if direction == \"up\":\n",
    "            new_position[0] -= distance\n",
    "        elif direction == \"down\":\n",
    "            new_position[0] += distance\n",
    "        elif direction == \"forward\":\n",
    "            new_position[1] += distance\n",
    "    return new_position\n",
    "\n",
    "def run_complicated_instructions(instructions, position):\n",
    "    \"\"\"\n",
    "    down X increases your aim by X units.\n",
    "    up X decreases your aim by X units.\n",
    "    forward X does two things:\n",
    "       It increases your horizontal position by X units.\n",
    "       It increases your depth by your aim multiplied by X.\n",
    "    \"\"\"\n",
    "    new_position = position[:]\n",
    "    for direction, amount in instructions:\n",
    "        if direction == \"down\":\n",
    "            new_position[0] += amount\n",
    "        elif direction == \"up\":\n",
    "            new_position[0] -= amount\n",
    "        elif direction == \"forward\":\n",
    "            new_position[2] += amount\n",
    "            new_position[1] += (new_position[0] * amount)\n",
    "    return new_position"
   ]
  },
  {
   "cell_type": "code",
   "execution_count": null,
   "id": "7a4406b1-f29e-42be-b981-d9830ed5e1f3",
   "metadata": {},
   "outputs": [],
   "source": [
    "# Part 1 - Test\n",
    "instructions = parse_input(test_input_1)\n",
    "position = [0, 0]\n",
    "new_position = run_instructions(instructions, position)\n",
    "assert prod(new_position) == 150"
   ]
  },
  {
   "cell_type": "code",
   "execution_count": null,
   "id": "8c4e689c-4f8a-44fa-bb4f-49a8f5f7bc09",
   "metadata": {},
   "outputs": [],
   "source": [
    "# Path 1\n",
    "instructions = parse_input(input_1)\n",
    "position = [0, 0]\n",
    "new_position = run_instructions(instructions, position)\n",
    "prod(new_position)"
   ]
  },
  {
   "cell_type": "code",
   "execution_count": null,
   "id": "ee0eca00-1e37-43c5-9b89-46acbda80bf7",
   "metadata": {},
   "outputs": [],
   "source": [
    "# Part 2 - Test\n",
    "instructions = parse_input(test_input_1)\n",
    "position = [0, 0, 0]\n",
    "new_position = run_complicated_instructions(instructions, position)\n",
    "assert prod(new_position[1:]) == 900"
   ]
  },
  {
   "cell_type": "code",
   "execution_count": null,
   "id": "0fde20b8-b940-40f2-b755-105f83d32ed1",
   "metadata": {},
   "outputs": [],
   "source": [
    "# Part 2\n",
    "instructions = parse_input(input_1)\n",
    "position = [0, 0, 0]\n",
    "new_position = run_complicated_instructions(instructions, position)\n",
    "prod(new_position[1:])"
   ]
  }
 ],
 "metadata": {
  "kernelspec": {
   "display_name": "Python 3 (ipykernel)",
   "language": "python",
   "name": "python3"
  },
  "language_info": {
   "codemirror_mode": {
    "name": "ipython",
    "version": 3
   },
   "file_extension": ".py",
   "mimetype": "text/x-python",
   "name": "python",
   "nbconvert_exporter": "python",
   "pygments_lexer": "ipython3",
   "version": "3.10.0"
  }
 },
 "nbformat": 4,
 "nbformat_minor": 5
}
