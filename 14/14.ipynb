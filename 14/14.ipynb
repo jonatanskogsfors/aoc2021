{
 "cells": [
  {
   "cell_type": "code",
   "execution_count": null,
   "id": "b07c3df0-ecde-4c25-bac6-4016f824a49b",
   "metadata": {},
   "outputs": [],
   "source": [
    "from pathlib import Path\n",
    "from collections import defaultdict"
   ]
  },
  {
   "cell_type": "code",
   "execution_count": null,
   "id": "08617c7a-c131-4201-955d-6419e1a283f3",
   "metadata": {},
   "outputs": [],
   "source": [
    "test_input_1 = \"\"\"NNCB\n",
    "\n",
    "CH -> B\n",
    "HH -> N\n",
    "CB -> H\n",
    "NH -> C\n",
    "HB -> C\n",
    "HC -> B\n",
    "HN -> C\n",
    "NN -> C\n",
    "BH -> H\n",
    "NC -> B\n",
    "NB -> B\n",
    "BN -> B\n",
    "BB -> N\n",
    "BC -> B\n",
    "CC -> N\n",
    "CN -> C\n",
    "\"\"\"\n",
    "\n",
    "input_1 = Path(\"input_1.txt\").read_text()"
   ]
  },
  {
   "cell_type": "code",
   "execution_count": null,
   "id": "83246067-226f-49f2-9891-e2bef616f9fd",
   "metadata": {},
   "outputs": [],
   "source": [
    "def parse_input(input_string):\n",
    "    polymer_template, insertions = input_string.split(\"\\n\\n\")\n",
    "    insertion_pairs = (row.split(\" -> \") for row in insertions.strip().splitlines())\n",
    "    insertion_rules = {pair: element for pair, element in insertion_pairs}\n",
    "    return polymer_template, insertion_rules\n",
    "\n",
    "def insertion_rules_to_bigrams_rules(insertion_rules):\n",
    "    return {pair: (pair[0] + insertion, insertion + pair[1]) for pair, insertion in insertion_rules.items()}\n",
    "    \n",
    "def next_step(polymer, insertion_rules):\n",
    "    new_polymer = \"\"\n",
    "    for n, element in enumerate(polymer):\n",
    "        new_polymer += element\n",
    "        if n < len(polymer) - 1:\n",
    "            next_element = polymer[n+1]\n",
    "            new_polymer += insertion_rules.get(element + next_element, \"\")        \n",
    "    return new_polymer\n",
    "\n",
    "def step_n(steps, polymer, insertion_rules):\n",
    "    for n in range(steps):\n",
    "        polymer = next_step(polymer, insertion_rules)\n",
    "    return polymer\n",
    "\n",
    "def next_bigram_counts(bigram_counts, bigram_rules):\n",
    "    new_counts = defaultdict(int)\n",
    "    for existing_bigram, count in bigram_counts.items():\n",
    "        for new_bigram in bigram_rules[existing_bigram]:\n",
    "            new_counts[new_bigram] += count    \n",
    "    return new_counts\n",
    "\n",
    "def bigram_counts_affter_step(steps, polymer, insertion_rules):\n",
    "    bigram_rules = insertion_rules_to_bigrams_rules(insertion_rules)\n",
    "    \n",
    "    initial_bigrams = (bigram for bigram in (\n",
    "        element + polymer[n]\n",
    "        for n, element in enumerate(polymer, start=1)\n",
    "        if n < len(polymer)\n",
    "    ))\n",
    "    \n",
    "    bigram_counts = defaultdict(int)\n",
    "    for bigram in initial_bigrams:\n",
    "        bigram_counts[bigram] += 1\n",
    "    \n",
    "    for _ in range(steps):\n",
    "        bigram_counts = next_bigram_counts(bigram_counts, bigram_rules)\n",
    "    return bigram_counts\n",
    "    \n",
    "def score_after_step(steps, polymer, insertion_rules):\n",
    "    bigram_counts = bigram_counts_affter_step(steps, polymer, insertion_rules)\n",
    "    element_counts = defaultdict(int)\n",
    "    element_counts[polymer[-1]] = 1\n",
    "\n",
    "    for pair, count in bigram_counts.items():\n",
    "        element_counts[pair[0]] += count\n",
    "    return max(element_counts.values()) - min(element_counts.values())"
   ]
  },
  {
   "cell_type": "code",
   "execution_count": null,
   "id": "926e8130-7b8c-43dd-953a-fd4edbcfebfe",
   "metadata": {},
   "outputs": [],
   "source": [
    "# Part 1 - Test\n",
    "polymer_template, insertion_rules = parse_input(test_input_1)\n",
    "assert next_step(polymer_template, insertion_rules) == \"NCNBCHB\"\n",
    "assert step_n(2, polymer_template, insertion_rules) == \"NBCCNBBBCBHCB\"\n",
    "assert step_n(3, polymer_template, insertion_rules) == \"NBBBCNCCNBBNBNBBCHBHHBCHB\"\n",
    "assert step_n(4, polymer_template, insertion_rules) == \"NBBNBNBBCCNBCNCCNBBNBBNBBBNBBNBBCBHCBHHNHCBBCBHCB\"\n",
    "\n",
    "assert score_after_step(10, polymer_template, insertion_rules) == 1588"
   ]
  },
  {
   "cell_type": "code",
   "execution_count": null,
   "id": "27d6513e-f368-4a3b-bb8b-d435a2a63f97",
   "metadata": {},
   "outputs": [],
   "source": [
    "# Part 1\n",
    "polymer_template, insertion_rules = parse_input(input_1)\n",
    "score_after_step(10, polymer_template, insertion_rules)"
   ]
  },
  {
   "cell_type": "code",
   "execution_count": null,
   "id": "98864c52-b3f6-4e78-9a12-aedb965feadd",
   "metadata": {},
   "outputs": [],
   "source": [
    "# Part 2 - test\n",
    "polymer_template, insertion_rules = parse_input(test_input_1)\n",
    "assert score_after_step(40, polymer_template, insertion_rules) == 2188189693529"
   ]
  },
  {
   "cell_type": "code",
   "execution_count": null,
   "id": "eec4940c-c33c-49b7-8672-a07bad700877",
   "metadata": {},
   "outputs": [],
   "source": [
    "# Part 2\n",
    "polymer_template, insertion_rules = parse_input(input_1)\n",
    "score_after_step(40, polymer_template, insertion_rules)"
   ]
  }
 ],
 "metadata": {
  "kernelspec": {
   "display_name": "Python 3 (ipykernel)",
   "language": "python",
   "name": "python3"
  },
  "language_info": {
   "codemirror_mode": {
    "name": "ipython",
    "version": 3
   },
   "file_extension": ".py",
   "mimetype": "text/x-python",
   "name": "python",
   "nbconvert_exporter": "python",
   "pygments_lexer": "ipython3",
   "version": "3.10.0"
  }
 },
 "nbformat": 4,
 "nbformat_minor": 5
}
