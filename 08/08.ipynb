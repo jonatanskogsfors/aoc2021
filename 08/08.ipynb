{
 "cells": [
  {
   "cell_type": "code",
   "execution_count": null,
   "id": "a46a476b-ba7a-4d82-9dae-3d1e845df107",
   "metadata": {},
   "outputs": [],
   "source": [
    "from pathlib import Path"
   ]
  },
  {
   "cell_type": "code",
   "execution_count": null,
   "id": "f5634385-c7db-4ae9-9261-a46f3b2157c5",
   "metadata": {},
   "outputs": [],
   "source": [
    "test_input_1 = \"\"\"acedgfb cdfbe gcdfa fbcad dab cefabd cdfgeb eafb cagedb ab | cdfeb fcadb cdfeb cdbaf\n",
    "\"\"\"\n",
    "\n",
    "test_input_2 = \"\"\"be cfbegad cbdgef fgaecd cgeb fdcge agebfd fecdb fabcd edb | fdgacbe cefdb cefbgd gcbe\n",
    "edbfga begcd cbg gc gcadebf fbgde acbgfd abcde gfcbed gfec | fcgedb cgb dgebacf gc\n",
    "fgaebd cg bdaec gdafb agbcfd gdcbef bgcad gfac gcb cdgabef | cg cg fdcagb cbg\n",
    "fbegcd cbd adcefb dageb afcb bc aefdc ecdab fgdeca fcdbega | efabcd cedba gadfec cb\n",
    "aecbfdg fbg gf bafeg dbefa fcge gcbea fcaegb dgceab fcbdga | gecf egdcabf bgf bfgea\n",
    "fgeab ca afcebg bdacfeg cfaedg gcfdb baec bfadeg bafgc acf | gebdcfa ecba ca fadegcb\n",
    "dbcfg fgd bdegcaf fgec aegbdf ecdfab fbedc dacgb gdcebf gf | cefg dcbef fcge gbcadfe\n",
    "bdfegc cbegaf gecbf dfcage bdacg ed bedf ced adcbefg gebcd | ed bcgafe cdgba cbgef\n",
    "egadfb cdbfeg cegd fecab cgb gbdefca cg fgcdab egfdb bfceg | gbdfcae bgc cg cgb\n",
    "gcafb gcf dcaebfg ecagb gf abcdeg gaef cafbge fdbac fegbdc | fgae cfgab fg bagce\n",
    "\"\"\"\n",
    "\n",
    "input_1 = Path(\"input_1.txt\").read_text()"
   ]
  },
  {
   "cell_type": "code",
   "execution_count": null,
   "id": "2d1276a3-25c5-450f-a2da-df5e9cdce077",
   "metadata": {},
   "outputs": [],
   "source": [
    "def parse_input(input_string):\n",
    "    return [[part.split() for part in row.split(\" | \")] for row in input_string.split(\"\\n\") if row]\n",
    "\n",
    "def count_easy_numbers(display_data):\n",
    "    ones = 0\n",
    "    fours = 0\n",
    "    sevens = 0\n",
    "    eights = 0\n",
    "    \n",
    "    for signal_pattern, output_value in display_data:\n",
    "        ones += len([value for value in output_value if len(value) == 2])\n",
    "        fours += len([value for value in output_value if len(value) == 4])\n",
    "        sevens += len([value for value in output_value if len(value) == 3])\n",
    "        eights +=len([value for value in output_value if len(value) == 7])\n",
    "    return ones + fours + sevens + eights\n",
    "\n",
    "def sum_output_numbers(display_data):\n",
    "    order = \"deafgbc\"\n",
    "    numbers = []\n",
    "    for signal_pattern, output_value in display_data:\n",
    "        segments = {}\n",
    "        for pattern in signal_pattern:\n",
    "            segments[pattern] = \"\".join([\"abcdefg\"[order.index(letter)] for letter in pattern])\n",
    "        numbers.append(segments_to_number(segments, output_value))\n",
    "        \n",
    "def segments_to_number(segments, output_value):\n",
    "    return 1"
   ]
  },
  {
   "cell_type": "code",
   "execution_count": null,
   "id": "3b9079dd-387f-49c7-9551-7d44e9e7933e",
   "metadata": {},
   "outputs": [],
   "source": [
    "# Part 1 - Test\n",
    "display_data = parse_input(test_input_2)\n",
    "assert count_easy_numbers(display_data) == 26"
   ]
  },
  {
   "cell_type": "code",
   "execution_count": null,
   "id": "580a41ce-65f2-4ecf-b326-469ef56cf627",
   "metadata": {},
   "outputs": [],
   "source": [
    "# Part 1\n",
    "display_data = parse_input(input_1)\n",
    "count_easy_numbers(display_data)"
   ]
  },
  {
   "cell_type": "code",
   "execution_count": null,
   "id": "4523e2e5-5cc4-4934-a2e4-58c7b1d7c374",
   "metadata": {},
   "outputs": [],
   "source": [
    "# Part 2 - Test\n",
    "display_data = parse_input(test_input_1)\n",
    "assert sum_output_numbers(display_data) == 5353\n",
    "\n",
    "display_data = parse_input(test_input_2)\n",
    "#assert sum_output_numbers(display_data) == 61229"
   ]
  },
  {
   "cell_type": "code",
   "execution_count": null,
   "id": "9f6b54fb-143a-4f85-8c1b-e69ef96d3620",
   "metadata": {},
   "outputs": [],
   "source": [
    "# Part 2"
   ]
  }
 ],
 "metadata": {
  "kernelspec": {
   "display_name": "Python 3 (ipykernel)",
   "language": "python",
   "name": "python3"
  },
  "language_info": {
   "codemirror_mode": {
    "name": "ipython",
    "version": 3
   },
   "file_extension": ".py",
   "mimetype": "text/x-python",
   "name": "python",
   "nbconvert_exporter": "python",
   "pygments_lexer": "ipython3",
   "version": "3.10.0"
  }
 },
 "nbformat": 4,
 "nbformat_minor": 5
}
