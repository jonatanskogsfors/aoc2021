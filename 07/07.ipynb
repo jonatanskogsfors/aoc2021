{
 "cells": [
  {
   "cell_type": "code",
   "execution_count": null,
   "id": "ba227e22-598e-49ef-9f8a-c392053182c8",
   "metadata": {},
   "outputs": [],
   "source": [
    "from pathlib import Path\n",
    "import statistics"
   ]
  },
  {
   "cell_type": "code",
   "execution_count": null,
   "id": "a8da4ae4-72bd-4d95-8b31-3b27d6cfbf91",
   "metadata": {},
   "outputs": [],
   "source": [
    "test_input_1 = \"\"\"16,1,2,0,4,2,7,1,2,14\"\"\"\n",
    "\n",
    "input_1 = Path(\"input_1.txt\").read_text()"
   ]
  },
  {
   "cell_type": "code",
   "execution_count": null,
   "id": "4fc150b9-ff31-45a3-a25f-45cd4659836f",
   "metadata": {},
   "outputs": [],
   "source": [
    "def parse_input(input_string: str):\n",
    "    return [int(number) for number in input_string.split(\",\") if number]\n",
    "\n",
    "def move_to_position(target_position, current_positions):\n",
    "    return sum([abs(position - target_position) for position in current_positions])\n",
    "\n",
    "def find_best_position(positions):\n",
    "    return round(statistics.median(positions))\n",
    "\n",
    "def move_to_position_linear(target_position, current_positions):\n",
    "    fuel_consumption = 0\n",
    "    for position in positions:\n",
    "        distance = abs(position - target_position)\n",
    "        fuel_consumption += int(((distance * (distance + 1)) / 2))\n",
    "    return fuel_consumption\n",
    "\n",
    "def find_best_position_brute(positions):\n",
    "    max_position = max(positions)\n",
    "    min_position = min(positions)\n",
    "    all_fuel_costs = [\n",
    "        (position, move_to_position_linear(position, positions))\n",
    "        for position in range(min_position, max_position + 1)\n",
    "    ]\n",
    "    best = min(all_fuel_costs, key=lambda c: c[1])\n",
    "    return best"
   ]
  },
  {
   "cell_type": "code",
   "execution_count": null,
   "id": "1abc453d-63b7-4318-bc42-64f2009410fc",
   "metadata": {},
   "outputs": [],
   "source": [
    "# Part 1 - Test\n",
    "positions = parse_input(test_input_1)\n",
    "best_position = find_best_position(positions)\n",
    "assert best_position == 2\n",
    "assert move_to_position(best_position, positions) == 37"
   ]
  },
  {
   "cell_type": "code",
   "execution_count": null,
   "id": "9dd68300-eeff-40fd-915b-6b808ca97534",
   "metadata": {},
   "outputs": [],
   "source": [
    "# Part 1\n",
    "positions = parse_input(input_1)\n",
    "best_position = find_best_position(positions)\n",
    "move_to_position(best_position, positions)"
   ]
  },
  {
   "cell_type": "code",
   "execution_count": null,
   "id": "1d6bcc40-720e-422c-9d08-d05b753b8101",
   "metadata": {},
   "outputs": [],
   "source": [
    "# Part 2 - Test\n",
    "positions = parse_input(test_input_1)\n",
    "best_position = find_best_position_brute(positions)\n",
    "assert best_position == 5\n",
    "assert move_to_position_linear(best_position, positions) == 168"
   ]
  },
  {
   "cell_type": "code",
   "execution_count": null,
   "id": "595baeab-5329-491c-8546-36c2f6d6b09a",
   "metadata": {},
   "outputs": [],
   "source": [
    "# Part 2\n",
    "positions = parse_input(input_1)\n",
    "find_best_position_brute(positions)"
   ]
  }
 ],
 "metadata": {
  "kernelspec": {
   "display_name": "Python 3 (ipykernel)",
   "language": "python",
   "name": "python3"
  },
  "language_info": {
   "codemirror_mode": {
    "name": "ipython",
    "version": 3
   },
   "file_extension": ".py",
   "mimetype": "text/x-python",
   "name": "python",
   "nbconvert_exporter": "python",
   "pygments_lexer": "ipython3",
   "version": "3.10.0"
  }
 },
 "nbformat": 4,
 "nbformat_minor": 5
}
