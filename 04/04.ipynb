{
 "cells": [
  {
   "cell_type": "code",
   "execution_count": null,
   "id": "6bfcb455-ede4-44fa-aafe-9f5d2ebe37b1",
   "metadata": {},
   "outputs": [],
   "source": [
    "from pathlib import Path"
   ]
  },
  {
   "cell_type": "code",
   "execution_count": null,
   "id": "f0ed8a65-de53-4103-b714-07012641b1c8",
   "metadata": {},
   "outputs": [],
   "source": [
    "test_input_1 = \"\"\"7,4,9,5,11,17,23,2,0,14,21,24,10,16,13,6,15,25,12,22,18,20,8,19,3,26,1\n",
    "\n",
    "22 13 17 11  0\n",
    " 8  2 23  4 24\n",
    "21  9 14 16  7\n",
    " 6 10  3 18  5\n",
    " 1 12 20 15 19\n",
    "\n",
    " 3 15  0  2 22\n",
    " 9 18 13 17  5\n",
    "19  8  7 25 23\n",
    "20 11 10 24  4\n",
    "14 21 16 12  6\n",
    "\n",
    "14 21 17 24  4\n",
    "10 16 15  9 19\n",
    "18  8 23 26 20\n",
    "22 11 13  6  5\n",
    " 2  0 12  3  7\"\"\"\n",
    "\n",
    "input_1 = Path(\"input_1.txt\").read_text()"
   ]
  },
  {
   "cell_type": "code",
   "execution_count": null,
   "id": "a6f83a18-8f87-4fc3-8f19-aa75908fb15f",
   "metadata": {},
   "outputs": [],
   "source": [
    "def parse_input(input_string):\n",
    "    raw_numbers, raw_boards = input_string.split(\"\\n\\n\", 1)\n",
    "    \n",
    "    drawn_numbers = [int(number) for number in raw_numbers.split(\",\")]\n",
    "    \n",
    "    raw_boards = raw_boards.split(\"\\n\\n\")\n",
    "    boards = [BingoBoard.from_string(raw_board) for raw_board in raw_boards]\n",
    "\n",
    "    return drawn_numbers, boards\n",
    "\n",
    "def winning_score(drawn_numbers, boards):\n",
    "    for number in drawn_numbers:\n",
    "        for board in boards:\n",
    "            bingo, score = board.draw_number(number)\n",
    "            if bingo:\n",
    "                return score * number\n",
    "    return None\n",
    "\n",
    "def last_winning_score(drawn_numbers, boards):\n",
    "    skip_boards = []\n",
    "    for number in drawn_numbers:\n",
    "        for board in boards:\n",
    "            bingo, score = board.draw_number(number)\n",
    "            if bingo:\n",
    "                if len(boards) > 1:\n",
    "                    boards = [b for b in boards if b is not board]\n",
    "                else:\n",
    "                    return score * number\n",
    "    return None\n",
    "\n",
    "class BingoBoard:\n",
    "    def __init__(self, numbers):\n",
    "        self._width = len(numbers[0])\n",
    "        self._height = len(numbers)\n",
    "        self.numbers = numbers\n",
    "        self._drawn_indicies = [[False] * self._width for _ in range(self._height)]\n",
    "\n",
    "    def __str__(self):\n",
    "        return \"\\n\".join([\" \".join([f\"{number:>2}\" for number in row]) for row in self.numbers])\n",
    "    \n",
    "    def draw_number(self, drawn_number):\n",
    "        for n, row in enumerate(self.numbers):\n",
    "            for m, number in enumerate(row):\n",
    "                if number == drawn_number:\n",
    "                    self._drawn_indicies[n][m] = True\n",
    "        return self.calculate()\n",
    "    \n",
    "    def calculate(self):\n",
    "        if self._check_rows() or self._check_columns():\n",
    "            return True, self._score()\n",
    "        return False, None\n",
    "    \n",
    "    def _check_rows(self):\n",
    "        return any([all(row) for row in self._drawn_indicies])\n",
    "    \n",
    "    def _check_columns(self):\n",
    "        for n in range(self._width):\n",
    "            if all(row[n] for row in self._drawn_indicies):\n",
    "                return True\n",
    "        return False\n",
    "    \n",
    "    def _score(self):\n",
    "        score = 0\n",
    "        for i in range(self._height):\n",
    "            for j in range(self._width):\n",
    "                if not self._drawn_indicies[i][j]:\n",
    "                    score += self.numbers[i][j]\n",
    "        return score\n",
    "    \n",
    "    @classmethod\n",
    "    def from_string(cls, raw_board):\n",
    "        numbers = [[int(number) for number in row.split()] for row in raw_board.split(\"\\n\") if row]\n",
    "        return cls(numbers)\n"
   ]
  },
  {
   "cell_type": "code",
   "execution_count": null,
   "id": "e9393a6d-102b-4b62-8189-79b89f03ba72",
   "metadata": {},
   "outputs": [],
   "source": [
    "# Part 1 - Test\n",
    "drawn_numbers, boards = parse_input(test_input_1)\n",
    "assert winning_score(drawn_numbers, boards) == 4512"
   ]
  },
  {
   "cell_type": "code",
   "execution_count": null,
   "id": "0b58df1d-2daa-4c84-b53f-a813a03b1043",
   "metadata": {},
   "outputs": [],
   "source": [
    "# Part 1\n",
    "drawn_numbers, boards = parse_input(input_1)\n",
    "winning_score(drawn_numbers, boards)"
   ]
  },
  {
   "cell_type": "code",
   "execution_count": null,
   "id": "04f066a6-71d8-4929-8a02-061b5c4961b0",
   "metadata": {},
   "outputs": [],
   "source": [
    "# Part 2 - Test\n",
    "drawn_numbers, boards = parse_input(test_input_1)\n",
    "assert last_winning_score(drawn_numbers, boards) == 1924"
   ]
  },
  {
   "cell_type": "code",
   "execution_count": null,
   "id": "b5ad7192-7e2f-41f9-83b8-f043d8831c4e",
   "metadata": {},
   "outputs": [],
   "source": [
    "# Part 2\n",
    "drawn_numbers, boards = parse_input(input_1)\n",
    "last_winning_score(drawn_numbers, boards)"
   ]
  }
 ],
 "metadata": {
  "kernelspec": {
   "display_name": "Python 3 (ipykernel)",
   "language": "python",
   "name": "python3"
  },
  "language_info": {
   "codemirror_mode": {
    "name": "ipython",
    "version": 3
   },
   "file_extension": ".py",
   "mimetype": "text/x-python",
   "name": "python",
   "nbconvert_exporter": "python",
   "pygments_lexer": "ipython3",
   "version": "3.10.0"
  }
 },
 "nbformat": 4,
 "nbformat_minor": 5
}
