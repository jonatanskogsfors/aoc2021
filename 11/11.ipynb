{
 "cells": [
  {
   "cell_type": "code",
   "execution_count": null,
   "id": "fbe1fcb7-e93f-444d-ac4e-5510bf9657e9",
   "metadata": {},
   "outputs": [],
   "source": [
    "from pathlib import Path\n",
    "import numpy as np\n",
    "from scipy.signal import convolve2d"
   ]
  },
  {
   "cell_type": "code",
   "execution_count": null,
   "id": "8297d89a-8d16-42c9-8e0b-46c7bf8e5cdb",
   "metadata": {},
   "outputs": [],
   "source": [
    "test_input_1 = \"\"\"5483143223\n",
    "2745854711\n",
    "5264556173\n",
    "6141336146\n",
    "6357385478\n",
    "4167524645\n",
    "2176841721\n",
    "6882881134\n",
    "4846848554\n",
    "5283751526\n",
    "\"\"\"\n",
    "\n",
    "input_1 = Path(\"input_1.txt\").read_text()"
   ]
  },
  {
   "cell_type": "code",
   "execution_count": null,
   "id": "d72ab3e7-8155-4c9e-881e-f57e7c3eec79",
   "metadata": {},
   "outputs": [],
   "source": [
    "FLASH_KERNEL = np.asarray([\n",
    "    [1, 1, 1],\n",
    "    [1, 1, 1],\n",
    "    [1, 1, 1]\n",
    "], dtype=int)\n",
    "\n",
    "def parse_input(input_string):\n",
    "    rows = input_string.strip(\"\\n\").split(\"\\n\")\n",
    "    height = len(rows)\n",
    "    width = len(rows[0])\n",
    "    flat = \"\".join(rows)\n",
    "    return np.fromstring(\" \".join(flat), int, sep=' ').reshape((height, width))\n",
    "\n",
    "def next_step(octopi):\n",
    "    octopi += 1\n",
    "    unhandled_flashes = list(zip(*np.nonzero(octopi == 10)))\n",
    "    while unhandled_flashes:\n",
    "        y, x = unhandled_flashes.pop(0)\n",
    "        mask = np.zeros(octopi.shape, dtype=int)\n",
    "        mask[y, x] = 1\n",
    "        flash_filter = convolve2d(mask, FLASH_KERNEL, mode='same').astype(bool)\n",
    "        octopi[flash_filter] += 1\n",
    "        unhandled_flashes += [i for i in zip(*np.nonzero(octopi == 10)) if i not in unhandled_flashes]\n",
    "    octopi[octopi > 9] = 0\n",
    "    return octopi\n",
    "\n",
    "def flashes_after_steps(steps, octopi, verbose=False):\n",
    "    flashes = 0\n",
    "    for n in range(steps):\n",
    "        octopi = next_step(octopi)\n",
    "        flashes += np.count_nonzero(octopi == 0)\n",
    "        if verbose:\n",
    "            print()\n",
    "            print(octopi)\n",
    "    return flashes\n",
    "\n",
    "def first_mega_flash(octopi, max_steps=1000):\n",
    "    for n in range(1, max_steps + 1):\n",
    "        octopi = next_step(octopi)\n",
    "        if (octopi == 0).all():\n",
    "            return n\n",
    "    raise Exception(f\"No mega flash detected after {max_steps} steps\")        "
   ]
  },
  {
   "cell_type": "code",
   "execution_count": null,
   "id": "43d4d92e-5793-44fa-9a96-8207213b5ecf",
   "metadata": {},
   "outputs": [],
   "source": [
    "# Part 1 - Test\n",
    "octopi = parse_input(test_input_1)\n",
    "assert flashes_after_steps(100, octopi) == 1656"
   ]
  },
  {
   "cell_type": "code",
   "execution_count": null,
   "id": "0e59941b-093f-46a0-ab55-9e97ee597710",
   "metadata": {},
   "outputs": [],
   "source": [
    "# Part 1\n",
    "octopi = parse_input(input_1)\n",
    "flashes_after_steps(100, octopi)"
   ]
  },
  {
   "cell_type": "code",
   "execution_count": null,
   "id": "19d50142-409e-413d-ba99-3466ffabcb76",
   "metadata": {},
   "outputs": [],
   "source": [
    "# Part 2 - Test\n",
    "octopi = parse_input(test_input_1)\n",
    "assert first_mega_flash(octopi) == 195"
   ]
  },
  {
   "cell_type": "code",
   "execution_count": null,
   "id": "19e2e1d8-4972-4e92-860b-10ba8d93d5c7",
   "metadata": {},
   "outputs": [],
   "source": [
    "# Part 2\n",
    "octopi = parse_input(input_1)\n",
    "first_mega_flash(octopi)"
   ]
  }
 ],
 "metadata": {
  "kernelspec": {
   "display_name": "Python 3 (ipykernel)",
   "language": "python",
   "name": "python3"
  },
  "language_info": {
   "codemirror_mode": {
    "name": "ipython",
    "version": 3
   },
   "file_extension": ".py",
   "mimetype": "text/x-python",
   "name": "python",
   "nbconvert_exporter": "python",
   "pygments_lexer": "ipython3",
   "version": "3.10.0"
  }
 },
 "nbformat": 4,
 "nbformat_minor": 5
}
