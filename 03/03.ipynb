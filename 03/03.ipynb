{
 "cells": [
  {
   "cell_type": "code",
   "execution_count": null,
   "id": "64fa7746-2de6-4610-93b3-0015b3f5534f",
   "metadata": {},
   "outputs": [],
   "source": [
    "from collections import Counter\n",
    "from pathlib import Path"
   ]
  },
  {
   "cell_type": "code",
   "execution_count": null,
   "id": "9ce80ff4-1289-44a5-b9d6-9089e677c019",
   "metadata": {},
   "outputs": [],
   "source": [
    "test_input_1 = \"\"\"00100\n",
    "11110\n",
    "10110\n",
    "10111\n",
    "10101\n",
    "01111\n",
    "00111\n",
    "11100\n",
    "10000\n",
    "11001\n",
    "00010\n",
    "01010\"\"\"\n",
    "\n",
    "input_1 = Path(\"input_1.txt\").read_text()"
   ]
  },
  {
   "cell_type": "code",
   "execution_count": null,
   "id": "ad8a8049-d9c9-438b-af0b-3685c275ac3a",
   "metadata": {},
   "outputs": [],
   "source": [
    "def parse_input(input_string: str) -> list[int]:\n",
    "    return [bits for bits in input_string.split(\"\\n\") if bits]\n",
    "\n",
    "def power_consumption_from_report(report: list[str]):\n",
    "    bit_counts = count_bits(report)\n",
    "    gamma_rate = \"\"\n",
    "    epsilon_rate = \"\"\n",
    "    for bit in bit_counts:\n",
    "        if bit[0] > bit[1]:\n",
    "            gamma_rate += \"0\"\n",
    "            epsilon_rate += \"1\"\n",
    "        else:\n",
    "            gamma_rate += \"1\"\n",
    "            epsilon_rate += \"0\"\n",
    "    return int(gamma_rate, 2) * int(epsilon_rate, 2)\n",
    "                \n",
    "\n",
    "def count_bits(report):\n",
    "    bit_counts = []\n",
    "    for bit in report[0]:\n",
    "        bit_counts.append([0, 0])\n",
    "    for bits in report:\n",
    "        for n, bit in enumerate(bits):\n",
    "            if bit == \"0\":\n",
    "                bit_counts[n][0] += 1\n",
    "            else:\n",
    "                bit_counts[n][1] += 1 \n",
    "    return bit_counts\n",
    "        \n",
    "def life_support_rating_from_report(report):\n",
    "    oxygen_generator_rating = oxygen_generator_rating_from_report(report)\n",
    "    co2_scrubber_rating = co2_scrubber_rating_from_report(report)\n",
    "    return oxygen_generator_rating * co2_scrubber_rating\n",
    "    \n",
    "def oxygen_generator_rating_from_report(report):\n",
    "    oxygen_candidates = report[:]\n",
    "    for n in range(len(report[0])):\n",
    "        rotated_row = rotate_report(oxygen_candidates)[n]\n",
    "        counts = Counter(rotated_row)\n",
    "        if counts[\"0\"] == counts[\"1\"]:\n",
    "            most_common = \"1\"\n",
    "        else:\n",
    "            most_common = counts.most_common()[0][0]\n",
    "        oxygen_candidates = list(filter(lambda l: l[n] == most_common, oxygen_candidates))\n",
    "        if len(oxygen_candidates) == 1:\n",
    "            break\n",
    "    return int(oxygen_candidates[0], 2)\n",
    "\n",
    "def co2_scrubber_rating_from_report(report):\n",
    "    co2_candidates = report[:]\n",
    "    for n in range(len(report[0])):\n",
    "        rotated_row = rotate_report(co2_candidates)[n]   \n",
    "        counts = Counter(rotated_row)\n",
    "        if counts[\"0\"] == counts[\"1\"]:\n",
    "            least_common = \"0\"\n",
    "        else:\n",
    "            least_common = counts.most_common()[-1][0]\n",
    "        co2_candidates = list(filter(lambda l: l[n] == least_common, co2_candidates))\n",
    "        if len(co2_candidates) == 1:\n",
    "            break\n",
    "    return int(co2_candidates[0], 2)\n",
    "        \n",
    "    \n",
    "def rotate_report(report):\n",
    "    return list(zip(*report[::-1]))"
   ]
  },
  {
   "cell_type": "code",
   "execution_count": null,
   "id": "27eb6a2a-30cc-443d-8cb5-80317adc3763",
   "metadata": {},
   "outputs": [],
   "source": [
    "# Part 1 - Test\n",
    "diagnostic_report = parse_input(test_input_1)\n",
    "assert power_consumption_from_report(diagnostic_report) == 198"
   ]
  },
  {
   "cell_type": "code",
   "execution_count": null,
   "id": "691c0728-5cb8-43f8-883e-f7f251dbb74a",
   "metadata": {},
   "outputs": [],
   "source": [
    "# Part 1\n",
    "diagnostic_report = parse_input(input_1)\n",
    "power_consumption_from_report(diagnostic_report)"
   ]
  },
  {
   "cell_type": "code",
   "execution_count": null,
   "id": "e7b7b141-7e96-4275-a04a-c6c2856c7a05",
   "metadata": {},
   "outputs": [],
   "source": [
    "# Part 2 - Test\n",
    "diagnostic_report = parse_input(test_input_1)\n",
    "assert life_support_rating_from_report(diagnostic_report) == 230"
   ]
  },
  {
   "cell_type": "code",
   "execution_count": null,
   "id": "20facf1d-307a-4f1a-a5e9-56cbc61a436a",
   "metadata": {},
   "outputs": [],
   "source": [
    "# Part 2\n",
    "wrong_answers = [4989288] # [low]\n",
    "\n",
    "diagnostic_report = parse_input(input_1)\n",
    "answer = life_support_rating_from_report(diagnostic_report)\n",
    "assert answer not in wrong_answers\n",
    "print(answer)"
   ]
  }
 ],
 "metadata": {
  "kernelspec": {
   "display_name": "Python 3 (ipykernel)",
   "language": "python",
   "name": "python3"
  },
  "language_info": {
   "codemirror_mode": {
    "name": "ipython",
    "version": 3
   },
   "file_extension": ".py",
   "mimetype": "text/x-python",
   "name": "python",
   "nbconvert_exporter": "python",
   "pygments_lexer": "ipython3",
   "version": "3.10.0"
  }
 },
 "nbformat": 4,
 "nbformat_minor": 5
}
