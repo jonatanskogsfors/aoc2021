{
 "cells": [
  {
   "cell_type": "code",
   "execution_count": null,
   "id": "41fd7757-7e5a-4e3f-9681-23616739c426",
   "metadata": {},
   "outputs": [],
   "source": [
    "import math\n",
    "from pathlib import Path"
   ]
  },
  {
   "cell_type": "code",
   "execution_count": null,
   "id": "454bded2-2781-488e-b463-55858bc04654",
   "metadata": {},
   "outputs": [],
   "source": [
    "test_input_1 = \"\"\"2199943210\n",
    "3987894921\n",
    "9856789892\n",
    "8767896789\n",
    "9899965678\n",
    "\"\"\"\n",
    "\n",
    "input_1 = Path(\"input_1.txt\").read_text()"
   ]
  },
  {
   "cell_type": "code",
   "execution_count": null,
   "id": "a58a1d09-b0c7-45e4-bf6a-cf9e00cdb245",
   "metadata": {},
   "outputs": [],
   "source": [
    "def parse_input(input_string):\n",
    "    return [[int(num) for num in row] for row in input_string.split(\"\\n\") if row]\n",
    "\n",
    "def low_points_in_map(height_map):\n",
    "    low_points = []\n",
    "    width = len(height_map[0])\n",
    "    height = len(height_map)\n",
    "    for y in range(height):\n",
    "        for x in range(width):\n",
    "            point = height_map[y][x]\n",
    "            if all([point < height_map[n_y][n_x] for n_x, n_y in get_neighbours(x, y, height_map)]):\n",
    "                low_points.append((x, y))\n",
    "    return low_points\n",
    "\n",
    "def get_neighbours(x, y, height_map):\n",
    "    width = len(height_map[0])\n",
    "    height = len(height_map)\n",
    "    neighbours = []\n",
    "    if x > 0:\n",
    "        neighbours.append((x-1, y))\n",
    "    if x < width - 1:\n",
    "        neighbours.append((x+1, y))\n",
    "    if y > 0:\n",
    "        neighbours.append((x, y-1))\n",
    "    if y < height - 1:\n",
    "        neighbours.append((x, y+1))\n",
    "    return neighbours\n",
    "\n",
    "def risk_level_of_map(height_map):\n",
    "    low_points = low_points_in_map(height_map)\n",
    "    return sum([height_map[y][x] for x,y in low_points]) + len(low_points)\n",
    "\n",
    "def product_of_largest_basins(height_map):\n",
    "    low_points = low_points_in_map(height_map)\n",
    "    bassins = []\n",
    "    for low_point in low_points:\n",
    "        bassin = 1\n",
    "        visited = [low_point]\n",
    "        neighbours = get_neighbours(low_point[0], low_point[1], height_map)\n",
    "        while neighbours:\n",
    "            x, y = neighbours.pop(0)\n",
    "            for neighbour in get_neighbours(x, y, height_map):\n",
    "                if neighbour in visited:\n",
    "                    continue\n",
    "                neighbour_value = height_map[neighbour[1]][neighbour[0]]\n",
    "                if neighbour_value > height_map[y][x] and neighbour_value != 9 and neighbour not in neighbours:\n",
    "                    neighbours.append(neighbour)\n",
    "            bassin += 1\n",
    "            visited.append((x, y))\n",
    "        bassins.append(bassin)\n",
    "    return math.prod(sorted(bassins)[-3:])"
   ]
  },
  {
   "cell_type": "code",
   "execution_count": null,
   "id": "614b695e-c13b-48ac-8082-a4f4e8061bd3",
   "metadata": {},
   "outputs": [],
   "source": [
    "# Part 1 - Test\n",
    "height_map = parse_input(test_input_1)\n",
    "assert risk_level_of_map(height_map)  == 15"
   ]
  },
  {
   "cell_type": "code",
   "execution_count": null,
   "id": "98f885a5-c1be-4510-be55-8a4eb0a429f5",
   "metadata": {},
   "outputs": [],
   "source": [
    "# Part 1\n",
    "height_map = parse_input(input_1)\n",
    "risk_level_of_map(height_map)"
   ]
  },
  {
   "cell_type": "code",
   "execution_count": null,
   "id": "2a184abb-2528-4d96-a545-bad33f12b28d",
   "metadata": {},
   "outputs": [],
   "source": [
    "# Part 2 - Test\n",
    "height_map = parse_input(test_input_1)\n",
    "assert product_of_largest_basins(height_map) == 1134"
   ]
  },
  {
   "cell_type": "code",
   "execution_count": null,
   "id": "f8a55872-2090-4e70-bfaa-d530afc5be78",
   "metadata": {},
   "outputs": [],
   "source": [
    "# Part 2\n",
    "height_map = parse_input(input_1)\n",
    "product_of_largest_basins(height_map)"
   ]
  }
 ],
 "metadata": {
  "kernelspec": {
   "display_name": "Python 3 (ipykernel)",
   "language": "python",
   "name": "python3"
  },
  "language_info": {
   "codemirror_mode": {
    "name": "ipython",
    "version": 3
   },
   "file_extension": ".py",
   "mimetype": "text/x-python",
   "name": "python",
   "nbconvert_exporter": "python",
   "pygments_lexer": "ipython3",
   "version": "3.10.0"
  }
 },
 "nbformat": 4,
 "nbformat_minor": 5
}
