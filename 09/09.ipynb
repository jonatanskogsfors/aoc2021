{
 "cells": [
  {
   "cell_type": "code",
   "execution_count": null,
   "id": "41fd7757-7e5a-4e3f-9681-23616739c426",
   "metadata": {},
   "outputs": [],
   "source": [
    "from pathlib import Path"
   ]
  },
  {
   "cell_type": "code",
   "execution_count": null,
   "id": "454bded2-2781-488e-b463-55858bc04654",
   "metadata": {},
   "outputs": [],
   "source": [
    "test_input_1 = \"\"\"2199943210\n",
    "3987894921\n",
    "9856789892\n",
    "8767896789\n",
    "9899965678\n",
    "\"\"\"\n",
    "\n",
    "input_1 = Path(\"input_1.txt\").read_text()"
   ]
  },
  {
   "cell_type": "code",
   "execution_count": null,
   "id": "a58a1d09-b0c7-45e4-bf6a-cf9e00cdb245",
   "metadata": {},
   "outputs": [],
   "source": [
    "def parse_input(input_string):\n",
    "    return [[int(num) for num in row] for row in input_string.split(\"\\n\") if row]\n",
    "\n",
    "def low_points_in_map(height_map):\n",
    "    low_points = []\n",
    "    width = len(height_map[0])\n",
    "    height = len(height_map)\n",
    "    for y in range(height):\n",
    "        for x in range(width):\n",
    "            neighbours = []\n",
    "            if x > 0:\n",
    "                neighbours.append(height_map[y][x-1])\n",
    "            if x < width - 1:\n",
    "                neighbours.append(height_map[y][x+1])\n",
    "            if y > 0:\n",
    "                neighbours.append(height_map[y-1][x])\n",
    "            if y < height - 1:\n",
    "                neighbours.append(height_map[y+1][x])\n",
    "            point = height_map[y][x]\n",
    "            if all([point < neighbour for neighbour in neighbours]):\n",
    "                low_points.append((x, y))\n",
    "    return low_points\n",
    "    \n",
    "def risk_level_of_map(height_map):\n",
    "    low_points = low_points_in_map(height_map)\n",
    "    return sum([height_map[y][x] for x,y in low_points]) + len(low_points)\n",
    "\n",
    "def sum_of_largest_basins(height_map):\n",
    "    low_points = low_points_in_map(height_map)\n",
    "    ..."
   ]
  },
  {
   "cell_type": "code",
   "execution_count": null,
   "id": "614b695e-c13b-48ac-8082-a4f4e8061bd3",
   "metadata": {},
   "outputs": [],
   "source": [
    "# Part 1 - Test\n",
    "height_map = parse_input(test_input_1)\n",
    "assert risk_level_of_map(height_map) == 15"
   ]
  },
  {
   "cell_type": "code",
   "execution_count": null,
   "id": "98f885a5-c1be-4510-be55-8a4eb0a429f5",
   "metadata": {},
   "outputs": [],
   "source": [
    "# Part 1\n",
    "height_map = parse_input(input_1)\n",
    "risk_level_of_map(height_map)"
   ]
  },
  {
   "cell_type": "code",
   "execution_count": null,
   "id": "2a184abb-2528-4d96-a545-bad33f12b28d",
   "metadata": {},
   "outputs": [],
   "source": [
    "# Part 2 - Test\n",
    "height_map = parse_input(test_input_1)\n",
    "assert sum_of_largest_basins(height_map) == 1134"
   ]
  },
  {
   "cell_type": "code",
   "execution_count": null,
   "id": "f8a55872-2090-4e70-bfaa-d530afc5be78",
   "metadata": {},
   "outputs": [],
   "source": [
    "# Part 2"
   ]
  }
 ],
 "metadata": {
  "kernelspec": {
   "display_name": "Python 3 (ipykernel)",
   "language": "python",
   "name": "python3"
  },
  "language_info": {
   "codemirror_mode": {
    "name": "ipython",
    "version": 3
   },
   "file_extension": ".py",
   "mimetype": "text/x-python",
   "name": "python",
   "nbconvert_exporter": "python",
   "pygments_lexer": "ipython3",
   "version": "3.10.0"
  }
 },
 "nbformat": 4,
 "nbformat_minor": 5
}
