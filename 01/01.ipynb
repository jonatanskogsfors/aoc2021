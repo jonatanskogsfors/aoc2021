{
 "cells": [
  {
   "cell_type": "code",
   "execution_count": null,
   "id": "cd1f38c0-3518-4784-832c-bc3dd4f98f84",
   "metadata": {},
   "outputs": [],
   "source": [
    "from pathlib import Path"
   ]
  },
  {
   "cell_type": "code",
   "execution_count": null,
   "id": "7923b80e-7c62-4225-b43d-e10b850d4d3b",
   "metadata": {},
   "outputs": [],
   "source": [
    "# Input\n",
    "\n",
    "test_input_1 = \"\"\"199\n",
    "200\n",
    "208\n",
    "210\n",
    "200\n",
    "207\n",
    "240\n",
    "269\n",
    "260\n",
    "263\n",
    "\"\"\"\n",
    "\n",
    "input_1 = Path(\"input_1.txt\").read_text()"
   ]
  },
  {
   "cell_type": "code",
   "execution_count": null,
   "id": "a470451b-bf37-4c14-aa39-955c5984f97a",
   "metadata": {},
   "outputs": [],
   "source": [
    "def parse_input(input: str) -> list[int]:\n",
    "    return [int(e) for e in input.split(\"\\n\") if e]\n",
    "\n",
    "def windows_in_measurements(measurements):\n",
    "    windows = []\n",
    "    for n in range(len(measurements) - 2):\n",
    "        window = sum(measurements[n:n+3])\n",
    "        windows.append(window)\n",
    "    return windows\n",
    "\n",
    "def number_of_increases(measurements):\n",
    "    increases = 0\n",
    "    for n, depth in enumerate(measurements[1:]):\n",
    "        increases += depth > measurements[n]\n",
    "    return increases"
   ]
  },
  {
   "cell_type": "code",
   "execution_count": null,
   "id": "dffe7538-6acd-43d6-a776-fa946bf24ac3",
   "metadata": {},
   "outputs": [],
   "source": [
    "# Part 1 - Test\n",
    "measurements = parse_input(test_input_1)\n",
    "assert number_of_increases(measurements) == 7"
   ]
  },
  {
   "cell_type": "code",
   "execution_count": null,
   "id": "1f206160-3b48-4a32-83bb-c1a4f5c9dcd4",
   "metadata": {},
   "outputs": [],
   "source": [
    "# Part 1\n",
    "measurements = parse_input(input_1)\n",
    "print(number_of_increases(measurements))"
   ]
  },
  {
   "cell_type": "code",
   "execution_count": null,
   "id": "a5dc7d5f-d78d-4fb7-b871-abb95e5d8018",
   "metadata": {},
   "outputs": [],
   "source": [
    "# Part 2 - Test\n",
    "measurements = parse_input(test_input_1)\n",
    "windows = windows_in_measurements(measurements)\n",
    "assert number_of_increases(windows) == 5"
   ]
  },
  {
   "cell_type": "code",
   "execution_count": null,
   "id": "2a516d2a-70b6-4486-93d9-9da1b782c2db",
   "metadata": {},
   "outputs": [],
   "source": [
    "# Part 2\n",
    "measurements = parse_input(input_1)\n",
    "windows = windows_in_measurements(measurements)\n",
    "print(number_of_increases(windows))"
   ]
  }
 ],
 "metadata": {
  "kernelspec": {
   "display_name": "Python 3 (ipykernel)",
   "language": "python",
   "name": "python3"
  },
  "language_info": {
   "codemirror_mode": {
    "name": "ipython",
    "version": 3
   },
   "file_extension": ".py",
   "mimetype": "text/x-python",
   "name": "python",
   "nbconvert_exporter": "python",
   "pygments_lexer": "ipython3",
   "version": "3.10.0"
  }
 },
 "nbformat": 4,
 "nbformat_minor": 5
}
