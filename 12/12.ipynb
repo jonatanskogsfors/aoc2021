{
 "cells": [
  {
   "cell_type": "code",
   "execution_count": null,
   "id": "650dcd0e-860e-4fb2-82c0-d231fddfe456",
   "metadata": {},
   "outputs": [],
   "source": [
    "from pathlib import Path\n",
    "from collections import defaultdict"
   ]
  },
  {
   "cell_type": "code",
   "execution_count": null,
   "id": "97a7e069-dc93-42a4-bcd2-cec3895a0efc",
   "metadata": {},
   "outputs": [],
   "source": [
    "test_input_1 = \"\"\"start-A\n",
    "start-b\n",
    "A-c\n",
    "A-b\n",
    "b-d\n",
    "A-end\n",
    "b-end\n",
    "\"\"\"\n",
    "\n",
    "test_input_2 = \"\"\"dc-end\n",
    "HN-start\n",
    "start-kj\n",
    "dc-start\n",
    "dc-HN\n",
    "LN-dc\n",
    "HN-end\n",
    "kj-sa\n",
    "kj-HN\n",
    "kj-dc\n",
    "\"\"\"\n",
    "\n",
    "test_input_3 = \"\"\"fs-end\n",
    "he-DX\n",
    "fs-he\n",
    "start-DX\n",
    "pj-DX\n",
    "end-zg\n",
    "zg-sl\n",
    "zg-pj\n",
    "pj-he\n",
    "RW-he\n",
    "fs-DX\n",
    "pj-RW\n",
    "zg-RW\n",
    "start-pj\n",
    "he-WI\n",
    "zg-he\n",
    "pj-fs\n",
    "start-RW\n",
    "\"\"\"\n",
    "\n",
    "input_1 = Path(\"input_1.txt\").read_text()"
   ]
  },
  {
   "cell_type": "code",
   "execution_count": null,
   "id": "3ff61abd-2036-4ada-a6ed-8075424606a5",
   "metadata": {},
   "outputs": [],
   "source": [
    "def parse_input(input_string):\n",
    "    cave_map = defaultdict(set)\n",
    "    for connection in input_string.strip(\"\\n\").split(\"\\n\"):\n",
    "        cave_1, cave_2 = connection.split(\"-\")\n",
    "        cave_map[cave_1].add(cave_2)\n",
    "        cave_map[cave_2].add(cave_1)\n",
    "    return cave_map\n",
    "\n",
    "def paths_never_revisiting_small_caves(cave_map):\n",
    "    distinct_paths = set()\n",
    "    visit_cave(\"start\", None, distinct_paths, cave_map)\n",
    "    return len(distinct_paths)\n",
    "\n",
    "def paths_one_small_cave_can_be_revsited(cave_map):\n",
    "    distinct_paths = set()\n",
    "    visit_cave_2(\"start\", None, distinct_paths, cave_map)\n",
    "    return len(distinct_paths)\n",
    "\n",
    "def visit_cave(cave, current_path, distinct_paths, cave_map):\n",
    "    if not current_path:\n",
    "        current_path = []\n",
    "    current_path.append(cave)\n",
    "    if cave == \"end\":\n",
    "        distinct_paths.add(\",\".join(current_path))\n",
    "    else:\n",
    "        for other_cave in cave_map[cave]:\n",
    "            if (other_cave == \"start\" or\n",
    "                (other_cave.islower() and other_cave in current_path)):\n",
    "                continue\n",
    "            visit_cave(other_cave, current_path[:], distinct_paths, cave_map)\n",
    "\n",
    "def a_small_cave_has_been_revisited(current_path):\n",
    "    small_caves = [c for c in current_path\n",
    "                   if c not in (\"start\", \"end\")\n",
    "                   and c.islower()]\n",
    "    return len(set(small_caves)) != len(small_caves)\n",
    "\n",
    "def visit_cave_2(cave, current_path, distinct_paths, cave_map):\n",
    "    if not current_path:\n",
    "        current_path = [] \n",
    "    current_path.append(cave)\n",
    "    if cave == \"end\":\n",
    "        distinct_paths.add(\",\".join(current_path))\n",
    "    else:\n",
    "        for other_cave in cave_map[cave]:\n",
    "            if (other_cave == \"start\" or\n",
    "                (other_cave.islower() and (\n",
    "                    a_small_cave_has_been_revisited(current_path) and\n",
    "                    other_cave in current_path))):\n",
    "                continue\n",
    "            visit_cave_2(other_cave, current_path[:], distinct_paths, cave_map)"
   ]
  },
  {
   "cell_type": "code",
   "execution_count": null,
   "id": "a72dd844-6cb3-4c71-804f-572c3c8a509f",
   "metadata": {},
   "outputs": [],
   "source": [
    "# Part 1 - Test\n",
    "cave_map = parse_input(test_input_1)\n",
    "assert paths_never_revisiting_small_caves(cave_map) == 10\n",
    "\n",
    "cave_map = parse_input(test_input_2)\n",
    "assert paths_never_revisiting_small_caves(cave_map) == 19\n",
    "\n",
    "cave_map = parse_input(test_input_3)\n",
    "assert paths_never_revisiting_small_caves(cave_map) == 226"
   ]
  },
  {
   "cell_type": "code",
   "execution_count": null,
   "id": "6a6aa42c-1b7c-40c8-af93-f4d258e6a219",
   "metadata": {},
   "outputs": [],
   "source": [
    "# Part 1\n",
    "cave_map = parse_input(input_1)\n",
    "paths_never_revisiting_small_caves(cave_map)"
   ]
  },
  {
   "cell_type": "code",
   "execution_count": null,
   "id": "82ff6304-e267-446c-9ac8-a5ad1808cf99",
   "metadata": {},
   "outputs": [],
   "source": [
    "# Part 2 - Test\n",
    "cave_map = parse_input(test_input_1)\n",
    "assert paths_one_small_cave_can_be_revsited(cave_map) == 36\n",
    "\n",
    "cave_map = parse_input(test_input_2)\n",
    "assert paths_one_small_cave_can_be_revsited(cave_map) == 103\n",
    "\n",
    "cave_map = parse_input(test_input_3)\n",
    "assert paths_one_small_cave_can_be_revsited(cave_map) == 3509"
   ]
  },
  {
   "cell_type": "code",
   "execution_count": null,
   "id": "681bd54b-e316-45c0-bf81-f0b7050a4cb4",
   "metadata": {},
   "outputs": [],
   "source": [
    "# Part 2\n",
    "cave_map = parse_input(input_1)\n",
    "paths_one_small_cave_can_be_revsited(cave_map)"
   ]
  }
 ],
 "metadata": {
  "kernelspec": {
   "display_name": "Python 3 (ipykernel)",
   "language": "python",
   "name": "python3"
  },
  "language_info": {
   "codemirror_mode": {
    "name": "ipython",
    "version": 3
   },
   "file_extension": ".py",
   "mimetype": "text/x-python",
   "name": "python",
   "nbconvert_exporter": "python",
   "pygments_lexer": "ipython3",
   "version": "3.10.0"
  }
 },
 "nbformat": 4,
 "nbformat_minor": 5
}
