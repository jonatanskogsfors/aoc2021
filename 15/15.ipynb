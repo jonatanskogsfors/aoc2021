{
 "cells": [
  {
   "cell_type": "code",
   "execution_count": null,
   "id": "e7363d2e-b5f0-420f-bc18-6d53429ed16b",
   "metadata": {},
   "outputs": [],
   "source": [
    "from pathlib import Path\n",
    "from queue import PriorityQueue\n",
    "\n",
    "import numpy as np"
   ]
  },
  {
   "cell_type": "code",
   "execution_count": null,
   "id": "a59b621d-0d7a-49ee-a65b-5770b7ea0e4c",
   "metadata": {},
   "outputs": [],
   "source": [
    "test_input_1 = \"\"\"1163751742\n",
    "1381373672\n",
    "2136511328\n",
    "3694931569\n",
    "7463417111\n",
    "1319128137\n",
    "1359912421\n",
    "3125421639\n",
    "1293138521\n",
    "2311944581\n",
    "\"\"\"\n",
    "\n",
    "input_1 = Path(\"input_1.txt\").read_text()"
   ]
  },
  {
   "cell_type": "code",
   "execution_count": null,
   "id": "9416d7fb-d001-411b-8fbd-74f98af8bf6b",
   "metadata": {},
   "outputs": [],
   "source": [
    "def parse_input(input_string):\n",
    "    lines = input_string.strip().splitlines()\n",
    "    height = len(lines)\n",
    "    width = len(lines[0])\n",
    "    return np.fromstring(\" \".join((\" \".join(line) for line in lines)), dtype=int, sep=\" \").reshape((height, width))\n",
    "\n",
    "def get_full_cave(cave_map):\n",
    "    new_map = cave_map.copy() - 1\n",
    "    for x in range(0, 4):\n",
    "        new_tile = cave_map + x\n",
    "        new_map = np.concatenate((new_map, new_tile), 1)\n",
    "    for y in range(1, 5):\n",
    "        new_row = new_map[:cave_map.shape[0]] + y\n",
    "        new_map = np.concatenate((new_map, new_row), 0)\n",
    "    new_map %= 9\n",
    "    return(new_map + 1)\n",
    "    \n",
    "def find_shortest_path(cave_map):\n",
    "    goal = (len(cave_map)-1, len(cave_map[0])-1)\n",
    "    return dijkstra((0,0), goal, cave_map)\n",
    "\n",
    "def dijkstra(start, goal, cave_map):\n",
    "    costs = {start: 0}\n",
    "    unvisited_nodes = PriorityQueue()\n",
    "    unvisited_nodes.put((0, start))\n",
    "\n",
    "    while unvisited_nodes:\n",
    "        _, position = unvisited_nodes.get()      \n",
    "        if position == goal:\n",
    "            break\n",
    "        for x, y in neighbors_for(position, cave_map):\n",
    "            new_cost = costs[position] + cave_map[y][x]\n",
    "            if (x, y) not in costs or new_cost < costs[(x, y)]:\n",
    "                costs[(x, y)] = new_cost\n",
    "                unvisited_nodes.put((new_cost, (x, y)))\n",
    "    return costs[goal]\n",
    "\n",
    "def neighbors_for(position, cave_map):\n",
    "    x, y = position \n",
    "    return [index for index in [(x-1, y), (x+1, y), (x, y-1), (x, y+1)]\n",
    "            if 0 <= index[0] < cave_map.shape[1]\n",
    "            and 0 <= index[1] < cave_map.shape[0]]   "
   ]
  },
  {
   "cell_type": "code",
   "execution_count": null,
   "id": "b8d2e976-d035-4bef-85fc-0467aee895af",
   "metadata": {},
   "outputs": [],
   "source": [
    "# Part 1 - Test\n",
    "cave_map = parse_input(test_input_1)\n",
    "assert find_shortest_path(cave_map) == 40"
   ]
  },
  {
   "cell_type": "code",
   "execution_count": null,
   "id": "6ebadf4f-9362-4cbe-8395-262a0240eb71",
   "metadata": {},
   "outputs": [],
   "source": [
    "# Part 1\n",
    "cave_map = parse_input(input_1)\n",
    "find_shortest_path(cave_map)"
   ]
  },
  {
   "cell_type": "code",
   "execution_count": null,
   "id": "0be119ab-f661-45a6-9cc7-331cd1a10780",
   "metadata": {},
   "outputs": [],
   "source": [
    "# Part 2 - Test\n",
    "cave_map = parse_input(test_input_1)\n",
    "cave_map = get_full_cave(cave_map)\n",
    "assert find_shortest_path(cave_map) == 315"
   ]
  },
  {
   "cell_type": "code",
   "execution_count": null,
   "id": "5f679ada-ce3b-4b4c-aaca-8ed877e4c6be",
   "metadata": {},
   "outputs": [],
   "source": [
    "# Part 2\n",
    "cave_map = parse_input(input_1)\n",
    "cave_map = get_full_cave(cave_map)\n",
    "find_shortest_path(cave_map)"
   ]
  }
 ],
 "metadata": {
  "kernelspec": {
   "display_name": "Python 3 (ipykernel)",
   "language": "python",
   "name": "python3"
  },
  "language_info": {
   "codemirror_mode": {
    "name": "ipython",
    "version": 3
   },
   "file_extension": ".py",
   "mimetype": "text/x-python",
   "name": "python",
   "nbconvert_exporter": "python",
   "pygments_lexer": "ipython3",
   "version": "3.10.0"
  }
 },
 "nbformat": 4,
 "nbformat_minor": 5
}
