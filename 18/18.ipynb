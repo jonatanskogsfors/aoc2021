{
 "cells": [
  {
   "cell_type": "code",
   "execution_count": 125,
   "id": "a58e02a8-92c9-4b31-89a9-7f0dee813f4d",
   "metadata": {},
   "outputs": [],
   "source": [
    "import math\n",
    "import re\n",
    "from functools import reduce\n",
    "from pathlib import Path\n",
    "from itertools import permutations"
   ]
  },
  {
   "cell_type": "code",
   "execution_count": 54,
   "id": "3b4a4d06-6e19-4096-8909-e41ddafa4584",
   "metadata": {},
   "outputs": [],
   "source": [
    "test_input_1 = \"\"\"[[[0,[5,8]],[[1,7],[9,6]]],[[4,[1,2]],[[1,4],2]]]\n",
    "[[[5,[2,8]],4],[5,[[9,9],0]]]\n",
    "[6,[[[6,2],[5,6]],[[7,6],[4,7]]]]\n",
    "[[[6,[0,7]],[0,9]],[4,[9,[9,0]]]]\n",
    "[[[7,[6,4]],[3,[1,3]]],[[[5,5],1],9]]\n",
    "[[6,[[7,3],[3,2]]],[[[3,8],[5,7]],4]]\n",
    "[[[[5,4],[7,7]],8],[[8,3],8]]\n",
    "[[9,3],[[9,9],[6,[4,9]]]]\n",
    "[[2,[[7,7],7]],[[5,8],[[9,3],[0,2]]]]\n",
    "[[[[5,2],5],[8,[3,7]]],[[5,[7,5]],[4,4]]]\n",
    "\"\"\"\n",
    "\n",
    "def read_input(number_string):\n",
    "    return [eval(line) for line in number_string.strip().split(\"\\n\")]\n",
    "\n",
    "assert read_input(\"[1, 2]\") == [[1, 2]]\n",
    "\n",
    "assert read_input(\n",
    "    \"\"\"[1, 2]\n",
    "[3, 4]\"\"\") == [[1, 2], [3, 4]]\n",
    "\n",
    "assert read_input(\"\"\"[1, 2, [3, 4]]\n",
    "[5, 6]\n",
    "[[8, 9], 0]\"\"\") == [[1, 2, [3, 4]],[5, 6], [[8, 9], 0]]\n"
   ]
  },
  {
   "cell_type": "code",
   "execution_count": 96,
   "id": "4513c4a9-455d-423c-942a-bf43b61f7150",
   "metadata": {},
   "outputs": [],
   "source": [
    "def add_to_the_left(number, left):\n",
    "    if number is None:\n",
    "        return left\n",
    "    if isinstance(left, int):\n",
    "        return left + number\n",
    "    sub_left, sub_right = left\n",
    "    return [sub_left, add_to_the_left(number, sub_right)]\n",
    "\n",
    "assert add_to_the_left(1, 1) == 2\n",
    "assert add_to_the_left(1, [2, 3]) == [2, 4]\n",
    "assert add_to_the_left(1, [[2, 3], 4]) == [[2, 3], 5]\n",
    "assert add_to_the_left(1, [2, [3, 4]]) == [2, [3, 5]]\n",
    "assert add_to_the_left(1, [[2, 3], [4, 5]]) == [[2, 3], [4, 6]]\n",
    "assert add_to_the_left(None, 1) == 1"
   ]
  },
  {
   "cell_type": "code",
   "execution_count": 97,
   "id": "3a1ff8aa-8563-43b3-aaf0-1d43819408fb",
   "metadata": {},
   "outputs": [],
   "source": [
    "def add_to_the_right(number, right):\n",
    "    if number is None:\n",
    "        return right\n",
    "    if isinstance(right, int):\n",
    "        return right + number\n",
    "    sub_left, sub_right = right\n",
    "    return [add_to_the_right(number, sub_left), sub_right]\n",
    "\n",
    "assert add_to_the_right(1, 1) == 2\n",
    "assert add_to_the_right(1, [2, 3]) == [3, 3]\n",
    "assert add_to_the_right(1, [[2, 3], 4]) == [[3, 3], 4]\n",
    "assert add_to_the_right(1, [2, [3, 4]]) == [3, [3, 4]]\n",
    "assert add_to_the_right(1, [[2, 3], [4, 5]]) == [[3, 3], [4, 5]]\n",
    "assert add_to_the_right(None, 1) == 1"
   ]
  },
  {
   "cell_type": "code",
   "execution_count": 110,
   "id": "82260c34-86f7-4d2c-9ce9-7cd69b019450",
   "metadata": {},
   "outputs": [],
   "source": [
    "def explode2(x, n=4):\n",
    "    if isinstance(x, int):\n",
    "        return False, None, x, None\n",
    "    if n == 0:\n",
    "        return True, x[0], 0, x[1]\n",
    "    a, b = x\n",
    "    exp, left, a, right = explode2(a, n - 1)\n",
    "    if exp:\n",
    "        return True, left, [a, add_to_the_right(right, b)], None\n",
    "    exp, left, b, right = explode2(b, n - 1)\n",
    "    if exp:\n",
    "        return True, None, [add_to_the_left(left, a), b], right\n",
    "    return False, None, x, None\n",
    "\n",
    "\n",
    "def explode(element, level=1):\n",
    "    if isinstance(element, int):\n",
    "        return False, None, element, None\n",
    "    left, right = element\n",
    "    if level > 4:\n",
    "        return True, left, 0, right\n",
    "    exploded, left_left, left, left_right = explode(left, level+1)\n",
    "    if exploded:\n",
    "        return True, left_left, [left, add_to_the_right(left_right, right)], None    \n",
    "    exploded, right_left, right, right_right = explode(right, level+1)\n",
    "    if exploded:\n",
    "        return True, None, [add_to_the_left(right_left, left), right], right_right\n",
    "    return False, None, [left, right], None\n",
    "    \n",
    "assert explode(1) == (False, None, 1, None)\n",
    "assert explode([1, 2]) == (False, None, [1, 2], None)\n",
    "assert explode([[1, 2], 3]) == (False, None, [[1, 2], 3], None)\n",
    "assert explode([[[1, 2], 3], 4]) == (False, None, [[[1, 2], 3], 4], None)\n",
    "assert explode([[[[1, 2], 3], 4], 5]) == (False, None, [[[[1, 2], 3], 4], 5], None)\n",
    "assert explode([[[[[9,8],1],2],3],4]) == (True, 9, [[[[0,9],2],3],4], None)\n",
    "assert explode([7,[6,[5,[4,[3,2]]]]]) == (True, None, [7,[6,[5,[7,0]]]], 2)\n",
    "assert explode([[6,[5,[4,[3,2]]]],1]) == (True, None, [[6,[5,[7,0]]],3], None)\n",
    "assert explode([[3,[2,[1,[7,3]]]],[6,[5,[4,[3,2]]]]]) == (True, None, [[3,[2,[8,0]]],[9,[5,[4,[3,2]]]]], None)\n",
    "assert explode([[3,[2,[8,0]]],[9,[5,[4,[3,2]]]]]) == (True, None, [[3,[2,[8,0]]],[9,[5,[7,0]]]], 2)"
   ]
  },
  {
   "cell_type": "code",
   "execution_count": 111,
   "id": "72015e7b-9d08-47f6-8b3b-5bfa1acda421",
   "metadata": {},
   "outputs": [],
   "source": [
    "def split(number):\n",
    "    if isinstance(number, int):\n",
    "        if number > 9:\n",
    "            return [math.floor(number/2), math.ceil(number/2)]\n",
    "        return number\n",
    "    \n",
    "    left, right = number\n",
    "    new_left = split(left)\n",
    "    if new_left != left:\n",
    "        return [new_left, right]\n",
    "    return [left, split(right)]\n",
    "\n",
    "assert split(9) == 9\n",
    "assert split(10) == [5, 5]\n",
    "assert split(11) == [5, 6]\n",
    "assert split(12) == [6, 6]\n",
    "assert split([[[[0,7],4],[15,[0,13]]],[1,1]]) == [[[[0,7],4],[[7,8],[0,13]]],[1,1]]\n",
    "assert split([[[[0,7],4],[[7,8],[0,13]]],[1,1]]) == [[[[0,7],4],[[7,8],[0,[6,7]]]],[1,1]]"
   ]
  },
  {
   "cell_type": "code",
   "execution_count": 113,
   "id": "50eeebf3-7576-4a66-b44d-7a1348e8d855",
   "metadata": {},
   "outputs": [],
   "source": [
    "def snail_reduce(number, verbose=False):\n",
    "    if verbose:\n",
    "        print(number)\n",
    "    last_number = None\n",
    "    while number != last_number:\n",
    "        last_number = number[:]\n",
    "        _, _, number, _ = explode(number)\n",
    "        if number != last_number:\n",
    "            if verbose:\n",
    "                print(f\"X {number}\")\n",
    "            continue\n",
    "        number = split(number)\n",
    "        if verbose:\n",
    "                print(f\"S {number}\")\n",
    "    return number\n",
    "\n",
    "assert snail_reduce([[[[[4,3],4],4],[7,[[8,4],9]]],[1,1]]) == [[[[0,7],4],[[7,8],[6,0]]],[8,1]]"
   ]
  },
  {
   "cell_type": "code",
   "execution_count": 117,
   "id": "656a6b2f-d2f5-40d0-96e1-c04b0afd6d83",
   "metadata": {},
   "outputs": [],
   "source": [
    "def snail_add(a, b, verbose=False):\n",
    "    return snail_reduce([a, b], verbose=verbose)\n",
    "\n",
    "assert snail_add([[[[4,3],4],4],[7,[[8,4],9]]], [1,1]) == [[[[0,7],4],[[7,8],[6,0]]],[8,1]]\n",
    "assert snail_add(\n",
    "    [[[0,[4,5]],[0,0]],[[[4,5],[2,6]],[9,5]]],\n",
    "    [7,[[[3,7],[4,3]],[[6,3],[8,8]]]]\n",
    ") == [[[[4,0],[5,4]],[[7,7],[6,0]]],[[8,[7,7]],[[7,9],[5,0]]]]\n",
    "\n",
    "assert snail_add(\n",
    "    [[[[4,0],[5,4]],[[7,7],[6,0]]],[[8,[7,7]],[[7,9],[5,0]]]],\n",
    "    [[2,[[0,8],[3,4]]],[[[6,7],1],[7,[1,6]]]]\n",
    ") == [[[[6,7],[6,7]],[[7,7],[0,7]]],[[[8,7],[7,7]],[[8,8],[8,0]]]]\n",
    "\n",
    "\n",
    "assert snail_add(\n",
    "    [[[[6,7],[6,7]],[[7,7],[0,7]]],[[[8,7],[7,7]],[[8,8],[8,0]]]],\n",
    "    [[[[2,4],7],[6,[0,5]]],[[[6,8],[2,8]],[[2,1],[4,5]]]]\n",
    ") == [[[[7,0],[7,7]],[[7,7],[7,8]]],[[[7,7],[8,8]],[[7,7],[8,7]]]]\n",
    "\n",
    "assert snail_add(\n",
    "    [[[[7,0],[7,7]],[[7,7],[7,8]]],[[[7,7],[8,8]],[[7,7],[8,7]]]],\n",
    "    [7,[5,[[3,8],[1,4]]]]\n",
    ") == [[[[7,7],[7,8]],[[9,5],[8,7]]],[[[6,8],[0,8]],[[9,9],[9,0]]]]\n",
    "\n",
    "assert snail_add(\n",
    "    [[[[7,7],[7,8]],[[9,5],[8,7]]],[[[6,8],[0,8]],[[9,9],[9,0]]]],\n",
    "    [[2,[2,2]],[8,[8,1]]]\n",
    ") == [[[[6,6],[6,6]],[[6,0],[6,7]]],[[[7,7],[8,9]],[8,[8,1]]]]\n",
    "\n",
    "assert snail_add(\n",
    "    [[[[6,6],[6,6]],[[6,0],[6,7]]],[[[7,7],[8,9]],[8,[8,1]]]],\n",
    "    [2,9]\n",
    ") == [[[[6,6],[7,7]],[[0,7],[7,7]]],[[[5,5],[5,6]],9]]\n",
    "\n",
    "assert snail_add(\n",
    "    [[[[6,6],[7,7]],[[0,7],[7,7]]],[[[5,5],[5,6]],9]],\n",
    "    [1,[[[9,3],9],[[9,0],[0,7]]]]\n",
    ") == [[[[7,8],[6,7]],[[6,8],[0,8]]],[[[7,7],[5,0]],[[5,5],[5,6]]]]\n",
    "\n",
    "assert snail_add(\n",
    "    [[[[7,8],[6,7]],[[6,8],[0,8]]],[[[7,7],[5,0]],[[5,5],[5,6]]]],\n",
    "    [[[5,[7,4]],7],1]\n",
    ") == [[[[7,7],[7,7]],[[8,7],[8,7]]],[[[7,0],[7,7]],9]]\n",
    "\n",
    "assert snail_add(\n",
    "    [[[[7,7],[7,7]],[[8,7],[8,7]]],[[[7,0],[7,7]],9]],\n",
    "    [[[[4,2],2],6],[8,7]]\n",
    ") == [[[[8,7],[7,7]],[[8,6],[7,7]]],[[[0,7],[6,6]],[8,7]]]"
   ]
  },
  {
   "cell_type": "code",
   "execution_count": 119,
   "id": "a41c966e-7228-4074-a3ac-5dea1f548876",
   "metadata": {},
   "outputs": [],
   "source": [
    "assert reduce(snail_add, ([1,1], [2,2], [3,3], [4,4])) == [[[[1,1],[2,2]],[3,3]],[4,4]]\n",
    "assert reduce(snail_add, ([1,1], [2,2], [3,3], [4,4], [5,5])) == [[[[3,0],[5,3]],[4,4]],[5,5]]\n",
    "assert reduce(snail_add, ([1,1], [2,2], [3,3], [4,4], [5,5], [6,6])) == [[[[5,0],[7,4]],[5,5]],[6,6]]"
   ]
  },
  {
   "cell_type": "code",
   "execution_count": 120,
   "id": "fd6028d8-aef7-47fc-a197-4712a5f185d0",
   "metadata": {},
   "outputs": [],
   "source": [
    "def magnitude(number):\n",
    "    if isinstance(number, int):\n",
    "        return number\n",
    "    left, right = number\n",
    "    return magnitude(left) * 3 + magnitude(right) * 2\n",
    "\n",
    "assert magnitude([[1,2],[[3,4],5]]) == 143\n",
    "assert magnitude([[[[0,7],4],[[7,8],[6,0]]],[8,1]]) == 1384\n",
    "assert magnitude([[[[1,1],[2,2]],[3,3]],[4,4]]) == 445\n",
    "assert magnitude([[[[3,0],[5,3]],[4,4]],[5,5]]) == 791\n",
    "assert magnitude([[[[5,0],[7,4]],[5,5]],[6,6]]) == 1137\n",
    "assert magnitude([[[[8,7],[7,7]],[[8,6],[7,7]]],[[[0,7],[6,6]],[8,7]]]) == 3488"
   ]
  },
  {
   "cell_type": "code",
   "execution_count": 122,
   "id": "f9e38421-8944-4ee8-89b7-c815b0723e53",
   "metadata": {},
   "outputs": [],
   "source": [
    "test_numbers = read_input(test_input_1)\n",
    "snail_sum = reduce(snail_add, test_numbers)\n",
    "assert snail_sum == [[[[6,6],[7,6]],[[7,7],[7,0]]],[[[7,7],[7,7]],[[7,8],[9,9]]]]\n",
    "assert magnitude(snail_sum) == 4140 "
   ]
  },
  {
   "cell_type": "code",
   "execution_count": 124,
   "id": "406c1211-c831-4a72-bdfc-0e88447c3ce7",
   "metadata": {},
   "outputs": [
    {
     "data": {
      "text/plain": [
       "4088"
      ]
     },
     "execution_count": 124,
     "metadata": {},
     "output_type": "execute_result"
    }
   ],
   "source": [
    "snail_numbers = read_input(Path(\"input_1.txt\").read_text())\n",
    "snail_sum = reduce(snail_add, snail_numbers)\n",
    "magnitude(snail_sum)"
   ]
  },
  {
   "cell_type": "code",
   "execution_count": 132,
   "id": "5c15e776-7246-4404-99d6-cf6f9d9931d5",
   "metadata": {},
   "outputs": [
    {
     "name": "stdout",
     "output_type": "stream",
     "text": [
      "4536\n"
     ]
    }
   ],
   "source": [
    "max_magnitude = 0\n",
    "for a, b in permutations(snail_numbers, 2):\n",
    "    max_magnitude =  max(max_magnitude, magnitude(snail_add(a, b)))\n",
    "print(max_magnitude)"
   ]
  },
  {
   "cell_type": "code",
   "execution_count": null,
   "id": "4df06c86-6208-47fd-838e-ec3f4c344776",
   "metadata": {},
   "outputs": [],
   "source": []
  }
 ],
 "metadata": {
  "kernelspec": {
   "display_name": "Python 3 (ipykernel)",
   "language": "python",
   "name": "python3"
  },
  "language_info": {
   "codemirror_mode": {
    "name": "ipython",
    "version": 3
   },
   "file_extension": ".py",
   "mimetype": "text/x-python",
   "name": "python",
   "nbconvert_exporter": "python",
   "pygments_lexer": "ipython3",
   "version": "3.10.0"
  },
  "toc-autonumbering": true
 },
 "nbformat": 4,
 "nbformat_minor": 5
}
