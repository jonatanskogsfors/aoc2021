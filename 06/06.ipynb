{
 "cells": [
  {
   "cell_type": "code",
   "execution_count": null,
   "id": "98a5e013-d273-44af-bcb7-9e9fb00d5bec",
   "metadata": {},
   "outputs": [],
   "source": [
    "from collections import deque\n",
    "from pathlib import Path"
   ]
  },
  {
   "cell_type": "code",
   "execution_count": null,
   "id": "f8c4f9d7-6b56-4788-9504-eaa121cd01e4",
   "metadata": {},
   "outputs": [],
   "source": [
    "test_input_1 = \"\"\"3,4,3,1,2\n",
    "\"\"\"\n",
    "\n",
    "input_1 = Path(\"input_1.txt\").read_text()"
   ]
  },
  {
   "cell_type": "code",
   "execution_count": null,
   "id": "ba973f5a-cabe-45a8-ad11-e03d8dd8c2f4",
   "metadata": {},
   "outputs": [],
   "source": [
    "def parse_input(input_string):\n",
    "    initial = [int(n) for n in input_string.strip().split(\",\")]\n",
    "    return deque([initial.count(n) for n in range(9)])\n",
    "\n",
    "def calculate_day(last_day, lanternfish, verbose=False):\n",
    "    for day in range(last_day):\n",
    "        lanternfish.rotate(-1)\n",
    "        lanternfish[6] += lanternfish[8]\n",
    "        if verbose:\n",
    "            print(f\"Dag {day + 1:>2}: {lanternfish} ({sum(lanternfish)})\")\n",
    "    return sum(lanternfish)"
   ]
  },
  {
   "cell_type": "code",
   "execution_count": null,
   "id": "b4175358-7e31-4482-82a2-9210ef9b3b8a",
   "metadata": {},
   "outputs": [],
   "source": [
    "# Part 1 - Test\n",
    "lanternfish = parse_input(test_input_1)\n",
    "assert calculate_day2(80, lanternfish) == 5934"
   ]
  },
  {
   "cell_type": "code",
   "execution_count": null,
   "id": "1e86e3f6-c412-4b03-827f-961cb536bbf0",
   "metadata": {},
   "outputs": [],
   "source": [
    "# Part 1\n",
    "lanternfish = parse_input(input_1)\n",
    "calculate_day(80, lanternfish)"
   ]
  },
  {
   "cell_type": "code",
   "execution_count": null,
   "id": "3e2642ce-26d2-41c6-9583-fd5571c86867",
   "metadata": {},
   "outputs": [],
   "source": [
    "# Part 2 - Test\n",
    "lanternfish = parse_input(test_input_1)\n",
    "assert calculate_day(256, lanternfish) == 26984457539"
   ]
  },
  {
   "cell_type": "code",
   "execution_count": null,
   "id": "9f39896e-8ae9-4562-9b8e-28594a4cc02f",
   "metadata": {},
   "outputs": [],
   "source": [
    "# Part 2\n",
    "lanternfish = parse_input(input_1)\n",
    "calculate_day(256, lanternfish)"
   ]
  }
 ],
 "metadata": {
  "kernelspec": {
   "display_name": "Python 3 (ipykernel)",
   "language": "python",
   "name": "python3"
  },
  "language_info": {
   "codemirror_mode": {
    "name": "ipython",
    "version": 3
   },
   "file_extension": ".py",
   "mimetype": "text/x-python",
   "name": "python",
   "nbconvert_exporter": "python",
   "pygments_lexer": "ipython3",
   "version": "3.10.0"
  }
 },
 "nbformat": 4,
 "nbformat_minor": 5
}
