{
 "cells": [
  {
   "cell_type": "code",
   "execution_count": null,
   "id": "c0ecdb4a-3d4a-4a13-85de-f36b824e2d8b",
   "metadata": {},
   "outputs": [],
   "source": [
    "from pathlib import Path\n",
    "from functools import reduce"
   ]
  },
  {
   "cell_type": "code",
   "execution_count": null,
   "id": "27747eb1-258d-4360-b111-c9d82be393af",
   "metadata": {},
   "outputs": [],
   "source": [
    "test_input_1 = \"\"\"[({(<(())[]>[[{[]{<()<>>\n",
    "[(()[<>])]({[<{<<[]>>(\n",
    "{([(<{}[<>[]}>{[]{[(<()>\n",
    "(((({<>}<{<{<>}{[]{[]{}\n",
    "[[<[([]))<([[{}[[()]]]\n",
    "[{[{({}]{}}([{[{{{}}([]\n",
    "{<[[]]>}<{[{[{[]{()[[[]\n",
    "[<(<(<(<{}))><([]([]()\n",
    "<{([([[(<>()){}]>(<<{{\n",
    "<{([{{}}[<[[[<>{}]]]>[]]\"\"\"\n",
    "\n",
    "input_1 = Path(\"input_1.txt\").read_text()"
   ]
  },
  {
   "cell_type": "code",
   "execution_count": null,
   "id": "aa6ad446-55f0-4cab-a62c-6f17f7dfc06f",
   "metadata": {},
   "outputs": [],
   "source": [
    "OPENERS = \"([{<\"\n",
    "CLOSERS = \")]}>\"\n",
    "\n",
    "class IllegalCharacterError(Exception):\n",
    "    ...\n",
    "\n",
    "def parse_input(input_string):\n",
    "    return input_string.split(\"\\n\")\n",
    "\n",
    "def parse_line(line, openers=None):\n",
    "    if not openers:\n",
    "        openers = []\n",
    "    while line:\n",
    "        if line[0] in OPENERS:\n",
    "            line, openers = parse_line(line[1:], openers + [line[0]])\n",
    "        elif line[0] in CLOSERS:\n",
    "            if CLOSERS.index(line[0]) != OPENERS.index(openers[-1]):\n",
    "                raise IllegalCharacterError(line[0])\n",
    "            return line[1:], openers[:-1]\n",
    "    return \"\", openers\n",
    "\n",
    "def first_illegal_character(line):\n",
    "    try:\n",
    "        parse_line(line)\n",
    "    except IllegalCharacterError as e:\n",
    "        return e.args[0]    \n",
    "    \n",
    "def complete_line(line):\n",
    "    try:\n",
    "        _, openers = parse_line(line)\n",
    "        return \"\".join([CLOSERS[OPENERS.index(opener)] for opener in openers[::-1]])\n",
    "    except IllegalCharacterError:\n",
    "        pass\n",
    "\n",
    "def syntax_error_score(navigation_subsystem):\n",
    "    score_table = {\n",
    "        \")\": 3,\n",
    "        \"]\": 57,\n",
    "        \"}\": 1197,\n",
    "        \">\": 25137\n",
    "    }\n",
    "    return sum([score_table[character] for character in [first_illegal_character(line) for line in navigation_subsystem] if character])\n",
    "\n",
    "def complete_line_score(navigation_subsystem):\n",
    "    completes = sorted([reduce(lambda x, y: x*5 + CLOSERS.index(y) + 1, complete, 0) for complete in [complete_line(line) for line in navigation_subsystem] if complete])\n",
    "    return completes[len(completes) // 2]"
   ]
  },
  {
   "cell_type": "code",
   "execution_count": null,
   "id": "b7139d20-726f-48f2-8d73-25a1064b3503",
   "metadata": {},
   "outputs": [],
   "source": [
    "# Part 1 - Test\n",
    "assert first_illegal_character(\"{([(<{}[<>[]}>{[]{[(<()>\") == \"}\"\n",
    "assert first_illegal_character(\"[[<[([]))<([[{}[[()]]]\") == \")\"\n",
    "assert first_illegal_character(\"[{[{({}]{}}([{[{{{}}([]\") == \"]\"\n",
    "assert first_illegal_character(\"[<(<(<(<{}))><([]([]()\") == \")\"\n",
    "assert first_illegal_character(\"<{([([[(<>()){}]>(<<{{\") == \">\" \n",
    "\n",
    "navigation_subsystem = parse_input(test_input_1)\n",
    "assert syntax_error_score(navigation_subsystem) == 26397"
   ]
  },
  {
   "cell_type": "code",
   "execution_count": null,
   "id": "fba115b3-c5d7-4b04-80c9-ef63aa4796f3",
   "metadata": {},
   "outputs": [],
   "source": [
    "# Part 1\n",
    "navigation_subsystem = parse_input(input_1)\n",
    "syntax_error_score(navigation_subsystem)"
   ]
  },
  {
   "cell_type": "code",
   "execution_count": null,
   "id": "cdc4748d-58c1-4d16-88bd-29aff6fdf70e",
   "metadata": {},
   "outputs": [],
   "source": [
    "# Part 2 - Test\n",
    "assert complete_line(\"[({(<(())[]>[[{[]{<()<>>\") == \"}}]])})]\"\n",
    "assert complete_line(\"[(()[<>])]({[<{<<[]>>(\") == \")}>]})\"\n",
    "assert complete_line(\"(((({<>}<{<{<>}{[]{[]{}\") == \"}}>}>))))\"\n",
    "assert complete_line(\"{<[[]]>}<{[{[{[]{()[[[]\") == \"]]}}]}]}>\"\n",
    "assert complete_line(\"<{([{{}}[<[[[<>{}]]]>[]]\") == \"])}>\"\n",
    "\n",
    "navigation_subsystem = parse_input(test_input_1)\n",
    "assert complete_line_score(navigation_subsystem) == 288957"
   ]
  },
  {
   "cell_type": "code",
   "execution_count": null,
   "id": "288c8595-f516-4794-a250-2a7c983fe948",
   "metadata": {},
   "outputs": [],
   "source": [
    "# Part 2\n",
    "navigation_subsystem = parse_input(input_1)\n",
    "complete_line_score(navigation_subsystem)"
   ]
  }
 ],
 "metadata": {
  "kernelspec": {
   "display_name": "Python 3 (ipykernel)",
   "language": "python",
   "name": "python3"
  },
  "language_info": {
   "codemirror_mode": {
    "name": "ipython",
    "version": 3
   },
   "file_extension": ".py",
   "mimetype": "text/x-python",
   "name": "python",
   "nbconvert_exporter": "python",
   "pygments_lexer": "ipython3",
   "version": "3.10.0"
  }
 },
 "nbformat": 4,
 "nbformat_minor": 5
}
