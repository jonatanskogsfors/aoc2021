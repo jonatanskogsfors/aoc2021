{
 "cells": [
  {
   "cell_type": "code",
   "execution_count": null,
   "id": "264861ec-3a6d-437c-9d48-7d0b565ea56f",
   "metadata": {},
   "outputs": [],
   "source": [
    "from pathlib import Path"
   ]
  },
  {
   "cell_type": "code",
   "execution_count": null,
   "id": "9eb6fd9c-252d-496e-bde7-ad590e56c0c8",
   "metadata": {},
   "outputs": [],
   "source": [
    "test_input_1 = \"\"\"6,10\n",
    "0,14\n",
    "9,10\n",
    "0,3\n",
    "10,4\n",
    "4,11\n",
    "6,0\n",
    "6,12\n",
    "4,1\n",
    "0,13\n",
    "10,12\n",
    "3,4\n",
    "3,0\n",
    "8,4\n",
    "1,10\n",
    "2,14\n",
    "8,10\n",
    "9,0\n",
    "\n",
    "fold along y=7\n",
    "fold along x=5\n",
    "\"\"\"\n",
    "\n",
    "input_1 = Path(\"input_1.txt\").read_text()"
   ]
  },
  {
   "cell_type": "code",
   "execution_count": null,
   "id": "81a42a44-d3e5-49d1-b7d5-e46fffe6c897",
   "metadata": {},
   "outputs": [],
   "source": [
    "def parse_input(input_string):\n",
    "    proto_dots, proto_instructions = input_string.split(\"\\n\\n\")\n",
    "    dots = {tuple(map(int, row.split(\",\"))) for row in proto_dots.strip(\"\\n\").splitlines()}\n",
    "    instructions = [('x', int(row.split(\"=\")[1])) if \"x=\" in row else ('y', int(row.split(\"=\")[1]))\n",
    "                    for row in proto_instructions.strip(\"\\n\").splitlines()]\n",
    "    return dots, instructions\n",
    "\n",
    "def follow_instructions(dots, instructions):\n",
    "    for instruction in instructions:\n",
    "        dots = fold(dots, instruction)\n",
    "    return dots\n",
    "\n",
    "def fold(dots, instruction):\n",
    "    dimension, n = instruction\n",
    "    if dimension == \"x\":\n",
    "        dots = {(n - abs(n - dot[0]), dot[1]) for dot in dots if dot[0] != n}\n",
    "    elif dimension == \"y\":\n",
    "        dots = {(dot[0], n - abs(n - dot[1])) for dot in dots if dot[1] != n}\n",
    "    else:\n",
    "        raise Exception(f\"Unknown fold dimension '{dimension}'\")\n",
    "    return dots\n",
    "\n",
    "def plot_dots(dots):\n",
    "    width = max(dots, key=lambda d: d[0])[0] + 1\n",
    "    height = max(dots, key=lambda d: d[1])[1] + 1\n",
    "    dot_grid = []\n",
    "    for i in range(height):\n",
    "        dot_grid.append([\".\"] * width)\n",
    "    for x, y in dots:\n",
    "        dot_grid[y][x] = \"#\"\n",
    "    print(\"\\n\".join(\" \".join(row) for row in dot_grid))"
   ]
  },
  {
   "cell_type": "code",
   "execution_count": null,
   "id": "a452f651-c177-450b-a95c-ef15c5c9be3c",
   "metadata": {},
   "outputs": [],
   "source": [
    "# Part 1 - Test\n",
    "dots, instructions = parse_input(test_input_1)\n",
    "assert len(follow_instructions(dots, instructions[:1])) == 17"
   ]
  },
  {
   "cell_type": "code",
   "execution_count": null,
   "id": "81d514bb-0542-403a-968c-73732b24bd00",
   "metadata": {},
   "outputs": [],
   "source": [
    "# Part 1\n",
    "dots, instructions = parse_input(input_1)\n",
    "visible_dots_after_folding(dots, instructions[0:1])"
   ]
  },
  {
   "cell_type": "code",
   "execution_count": null,
   "id": "4e252224-7c15-44a1-9fdc-329c429d7bf6",
   "metadata": {},
   "outputs": [],
   "source": [
    "# Part 2\n",
    "dots, instructions = parse_input(input_1)\n",
    "dots = follow_instructions(dots, instructions)\n",
    "plot_dots(dots)"
   ]
  }
 ],
 "metadata": {
  "kernelspec": {
   "display_name": "Python 3 (ipykernel)",
   "language": "python",
   "name": "python3"
  },
  "language_info": {
   "codemirror_mode": {
    "name": "ipython",
    "version": 3
   },
   "file_extension": ".py",
   "mimetype": "text/x-python",
   "name": "python",
   "nbconvert_exporter": "python",
   "pygments_lexer": "ipython3",
   "version": "3.10.0"
  }
 },
 "nbformat": 4,
 "nbformat_minor": 5
}
